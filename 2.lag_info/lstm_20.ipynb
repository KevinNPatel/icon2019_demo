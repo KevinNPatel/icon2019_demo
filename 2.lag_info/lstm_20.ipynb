{
 "cells": [
  {
   "cell_type": "code",
   "execution_count": 1,
   "metadata": {},
   "outputs": [],
   "source": [
    "import pandas as pd\n",
    "import numpy as np\n",
    "%matplotlib inline\n",
    "\n",
    "import torch\n",
    "import torch.nn as nn\n",
    "torch.manual_seed(1234)\n",
    "torch.cuda.manual_seed(1234)\n",
    "device = torch.device('cuda:0')"
   ]
  },
  {
   "cell_type": "markdown",
   "metadata": {},
   "source": [
    "# Reading Data"
   ]
  },
  {
   "cell_type": "code",
   "execution_count": 2,
   "metadata": {},
   "outputs": [
    {
     "data": {
      "text/html": [
       "<div>\n",
       "<style scoped>\n",
       "    .dataframe tbody tr th:only-of-type {\n",
       "        vertical-align: middle;\n",
       "    }\n",
       "\n",
       "    .dataframe tbody tr th {\n",
       "        vertical-align: top;\n",
       "    }\n",
       "\n",
       "    .dataframe thead th {\n",
       "        text-align: right;\n",
       "    }\n",
       "</style>\n",
       "<table border=\"1\" class=\"dataframe\">\n",
       "  <thead>\n",
       "    <tr style=\"text-align: right;\">\n",
       "      <th></th>\n",
       "      <th>Thousands of Passengers</th>\n",
       "    </tr>\n",
       "    <tr>\n",
       "      <th>Month</th>\n",
       "      <th></th>\n",
       "    </tr>\n",
       "  </thead>\n",
       "  <tbody>\n",
       "    <tr>\n",
       "      <td>1949-01-01</td>\n",
       "      <td>112</td>\n",
       "    </tr>\n",
       "    <tr>\n",
       "      <td>1949-02-01</td>\n",
       "      <td>118</td>\n",
       "    </tr>\n",
       "    <tr>\n",
       "      <td>1949-03-01</td>\n",
       "      <td>132</td>\n",
       "    </tr>\n",
       "    <tr>\n",
       "      <td>1949-04-01</td>\n",
       "      <td>129</td>\n",
       "    </tr>\n",
       "    <tr>\n",
       "      <td>1949-05-01</td>\n",
       "      <td>121</td>\n",
       "    </tr>\n",
       "  </tbody>\n",
       "</table>\n",
       "</div>"
      ],
      "text/plain": [
       "            Thousands of Passengers\n",
       "Month                              \n",
       "1949-01-01                      112\n",
       "1949-02-01                      118\n",
       "1949-03-01                      132\n",
       "1949-04-01                      129\n",
       "1949-05-01                      121"
      ]
     },
     "execution_count": 2,
     "metadata": {},
     "output_type": "execute_result"
    }
   ],
   "source": [
    "df = pd.read_csv('../Data/airline_passengers.csv',index_col='Month',parse_dates=True)\n",
    "df.index.freq = 'MS'\n",
    "df.head()"
   ]
  },
  {
   "cell_type": "code",
   "execution_count": 3,
   "metadata": {},
   "outputs": [
    {
     "name": "stdout",
     "output_type": "stream",
     "text": [
      "<class 'pandas.core.frame.DataFrame'>\n",
      "DatetimeIndex: 144 entries, 1949-01-01 to 1960-12-01\n",
      "Freq: MS\n",
      "Data columns (total 1 columns):\n",
      "Thousands of Passengers    144 non-null int64\n",
      "dtypes: int64(1)\n",
      "memory usage: 2.2 KB\n"
     ]
    }
   ],
   "source": [
    "df.info()"
   ]
  },
  {
   "cell_type": "markdown",
   "metadata": {},
   "source": [
    "# Preprocessing"
   ]
  },
  {
   "cell_type": "code",
   "execution_count": 4,
   "metadata": {},
   "outputs": [],
   "source": [
    "# storing mean and variance\n",
    "series_mean = df['Thousands of Passengers'].mean()\n",
    "series_std = df['Thousands of Passengers'].std()"
   ]
  },
  {
   "cell_type": "code",
   "execution_count": 5,
   "metadata": {},
   "outputs": [],
   "source": [
    "# Normalizing\n",
    "df['Yt_true'] = df['Thousands of Passengers']\n",
    "df['Yt_true'] = (df['Yt_true'] - series_mean) / series_std"
   ]
  },
  {
   "cell_type": "code",
   "execution_count": 6,
   "metadata": {},
   "outputs": [],
   "source": [
    "lag = 20\n",
    "for i in range(lag, 0, -1):\n",
    "    df['Yt-' + str(i)] = df['Yt_true'].shift(i)"
   ]
  },
  {
   "cell_type": "code",
   "execution_count": 7,
   "metadata": {},
   "outputs": [
    {
     "data": {
      "text/html": [
       "<div>\n",
       "<style scoped>\n",
       "    .dataframe tbody tr th:only-of-type {\n",
       "        vertical-align: middle;\n",
       "    }\n",
       "\n",
       "    .dataframe tbody tr th {\n",
       "        vertical-align: top;\n",
       "    }\n",
       "\n",
       "    .dataframe thead th {\n",
       "        text-align: right;\n",
       "    }\n",
       "</style>\n",
       "<table border=\"1\" class=\"dataframe\">\n",
       "  <thead>\n",
       "    <tr style=\"text-align: right;\">\n",
       "      <th></th>\n",
       "      <th>Thousands of Passengers</th>\n",
       "      <th>Yt_true</th>\n",
       "      <th>Yt-20</th>\n",
       "      <th>Yt-19</th>\n",
       "      <th>Yt-18</th>\n",
       "      <th>Yt-17</th>\n",
       "      <th>Yt-16</th>\n",
       "      <th>Yt-15</th>\n",
       "      <th>Yt-14</th>\n",
       "      <th>Yt-13</th>\n",
       "      <th>...</th>\n",
       "      <th>Yt-10</th>\n",
       "      <th>Yt-9</th>\n",
       "      <th>Yt-8</th>\n",
       "      <th>Yt-7</th>\n",
       "      <th>Yt-6</th>\n",
       "      <th>Yt-5</th>\n",
       "      <th>Yt-4</th>\n",
       "      <th>Yt-3</th>\n",
       "      <th>Yt-2</th>\n",
       "      <th>Yt-1</th>\n",
       "    </tr>\n",
       "    <tr>\n",
       "      <th>Month</th>\n",
       "      <th></th>\n",
       "      <th></th>\n",
       "      <th></th>\n",
       "      <th></th>\n",
       "      <th></th>\n",
       "      <th></th>\n",
       "      <th></th>\n",
       "      <th></th>\n",
       "      <th></th>\n",
       "      <th></th>\n",
       "      <th></th>\n",
       "      <th></th>\n",
       "      <th></th>\n",
       "      <th></th>\n",
       "      <th></th>\n",
       "      <th></th>\n",
       "      <th></th>\n",
       "      <th></th>\n",
       "      <th></th>\n",
       "      <th></th>\n",
       "      <th></th>\n",
       "    </tr>\n",
       "  </thead>\n",
       "  <tbody>\n",
       "    <tr>\n",
       "      <td>1949-01-01</td>\n",
       "      <td>112</td>\n",
       "      <td>-1.402882</td>\n",
       "      <td>NaN</td>\n",
       "      <td>NaN</td>\n",
       "      <td>NaN</td>\n",
       "      <td>NaN</td>\n",
       "      <td>NaN</td>\n",
       "      <td>NaN</td>\n",
       "      <td>NaN</td>\n",
       "      <td>NaN</td>\n",
       "      <td>...</td>\n",
       "      <td>NaN</td>\n",
       "      <td>NaN</td>\n",
       "      <td>NaN</td>\n",
       "      <td>NaN</td>\n",
       "      <td>NaN</td>\n",
       "      <td>NaN</td>\n",
       "      <td>NaN</td>\n",
       "      <td>NaN</td>\n",
       "      <td>NaN</td>\n",
       "      <td>NaN</td>\n",
       "    </tr>\n",
       "    <tr>\n",
       "      <td>1949-02-01</td>\n",
       "      <td>118</td>\n",
       "      <td>-1.352868</td>\n",
       "      <td>NaN</td>\n",
       "      <td>NaN</td>\n",
       "      <td>NaN</td>\n",
       "      <td>NaN</td>\n",
       "      <td>NaN</td>\n",
       "      <td>NaN</td>\n",
       "      <td>NaN</td>\n",
       "      <td>NaN</td>\n",
       "      <td>...</td>\n",
       "      <td>NaN</td>\n",
       "      <td>NaN</td>\n",
       "      <td>NaN</td>\n",
       "      <td>NaN</td>\n",
       "      <td>NaN</td>\n",
       "      <td>NaN</td>\n",
       "      <td>NaN</td>\n",
       "      <td>NaN</td>\n",
       "      <td>NaN</td>\n",
       "      <td>-1.402882</td>\n",
       "    </tr>\n",
       "    <tr>\n",
       "      <td>1949-03-01</td>\n",
       "      <td>132</td>\n",
       "      <td>-1.236169</td>\n",
       "      <td>NaN</td>\n",
       "      <td>NaN</td>\n",
       "      <td>NaN</td>\n",
       "      <td>NaN</td>\n",
       "      <td>NaN</td>\n",
       "      <td>NaN</td>\n",
       "      <td>NaN</td>\n",
       "      <td>NaN</td>\n",
       "      <td>...</td>\n",
       "      <td>NaN</td>\n",
       "      <td>NaN</td>\n",
       "      <td>NaN</td>\n",
       "      <td>NaN</td>\n",
       "      <td>NaN</td>\n",
       "      <td>NaN</td>\n",
       "      <td>NaN</td>\n",
       "      <td>NaN</td>\n",
       "      <td>-1.402882</td>\n",
       "      <td>-1.352868</td>\n",
       "    </tr>\n",
       "    <tr>\n",
       "      <td>1949-04-01</td>\n",
       "      <td>129</td>\n",
       "      <td>-1.261176</td>\n",
       "      <td>NaN</td>\n",
       "      <td>NaN</td>\n",
       "      <td>NaN</td>\n",
       "      <td>NaN</td>\n",
       "      <td>NaN</td>\n",
       "      <td>NaN</td>\n",
       "      <td>NaN</td>\n",
       "      <td>NaN</td>\n",
       "      <td>...</td>\n",
       "      <td>NaN</td>\n",
       "      <td>NaN</td>\n",
       "      <td>NaN</td>\n",
       "      <td>NaN</td>\n",
       "      <td>NaN</td>\n",
       "      <td>NaN</td>\n",
       "      <td>NaN</td>\n",
       "      <td>-1.402882</td>\n",
       "      <td>-1.352868</td>\n",
       "      <td>-1.236169</td>\n",
       "    </tr>\n",
       "    <tr>\n",
       "      <td>1949-05-01</td>\n",
       "      <td>121</td>\n",
       "      <td>-1.327861</td>\n",
       "      <td>NaN</td>\n",
       "      <td>NaN</td>\n",
       "      <td>NaN</td>\n",
       "      <td>NaN</td>\n",
       "      <td>NaN</td>\n",
       "      <td>NaN</td>\n",
       "      <td>NaN</td>\n",
       "      <td>NaN</td>\n",
       "      <td>...</td>\n",
       "      <td>NaN</td>\n",
       "      <td>NaN</td>\n",
       "      <td>NaN</td>\n",
       "      <td>NaN</td>\n",
       "      <td>NaN</td>\n",
       "      <td>NaN</td>\n",
       "      <td>-1.402882</td>\n",
       "      <td>-1.352868</td>\n",
       "      <td>-1.236169</td>\n",
       "      <td>-1.261176</td>\n",
       "    </tr>\n",
       "  </tbody>\n",
       "</table>\n",
       "<p>5 rows × 22 columns</p>\n",
       "</div>"
      ],
      "text/plain": [
       "            Thousands of Passengers   Yt_true  Yt-20  Yt-19  Yt-18  Yt-17  \\\n",
       "Month                                                                       \n",
       "1949-01-01                      112 -1.402882    NaN    NaN    NaN    NaN   \n",
       "1949-02-01                      118 -1.352868    NaN    NaN    NaN    NaN   \n",
       "1949-03-01                      132 -1.236169    NaN    NaN    NaN    NaN   \n",
       "1949-04-01                      129 -1.261176    NaN    NaN    NaN    NaN   \n",
       "1949-05-01                      121 -1.327861    NaN    NaN    NaN    NaN   \n",
       "\n",
       "            Yt-16  Yt-15  Yt-14  Yt-13  ...  Yt-10  Yt-9  Yt-8  Yt-7  Yt-6  \\\n",
       "Month                                   ...                                  \n",
       "1949-01-01    NaN    NaN    NaN    NaN  ...    NaN   NaN   NaN   NaN   NaN   \n",
       "1949-02-01    NaN    NaN    NaN    NaN  ...    NaN   NaN   NaN   NaN   NaN   \n",
       "1949-03-01    NaN    NaN    NaN    NaN  ...    NaN   NaN   NaN   NaN   NaN   \n",
       "1949-04-01    NaN    NaN    NaN    NaN  ...    NaN   NaN   NaN   NaN   NaN   \n",
       "1949-05-01    NaN    NaN    NaN    NaN  ...    NaN   NaN   NaN   NaN   NaN   \n",
       "\n",
       "            Yt-5      Yt-4      Yt-3      Yt-2      Yt-1  \n",
       "Month                                                     \n",
       "1949-01-01   NaN       NaN       NaN       NaN       NaN  \n",
       "1949-02-01   NaN       NaN       NaN       NaN -1.402882  \n",
       "1949-03-01   NaN       NaN       NaN -1.402882 -1.352868  \n",
       "1949-04-01   NaN       NaN -1.402882 -1.352868 -1.236169  \n",
       "1949-05-01   NaN -1.402882 -1.352868 -1.236169 -1.261176  \n",
       "\n",
       "[5 rows x 22 columns]"
      ]
     },
     "execution_count": 7,
     "metadata": {},
     "output_type": "execute_result"
    }
   ],
   "source": [
    "df.head()"
   ]
  },
  {
   "cell_type": "code",
   "execution_count": 8,
   "metadata": {},
   "outputs": [],
   "source": [
    "df.dropna(inplace=True)"
   ]
  },
  {
   "cell_type": "code",
   "execution_count": 9,
   "metadata": {},
   "outputs": [
    {
     "data": {
      "text/html": [
       "<div>\n",
       "<style scoped>\n",
       "    .dataframe tbody tr th:only-of-type {\n",
       "        vertical-align: middle;\n",
       "    }\n",
       "\n",
       "    .dataframe tbody tr th {\n",
       "        vertical-align: top;\n",
       "    }\n",
       "\n",
       "    .dataframe thead th {\n",
       "        text-align: right;\n",
       "    }\n",
       "</style>\n",
       "<table border=\"1\" class=\"dataframe\">\n",
       "  <thead>\n",
       "    <tr style=\"text-align: right;\">\n",
       "      <th></th>\n",
       "      <th>Thousands of Passengers</th>\n",
       "      <th>Yt_true</th>\n",
       "      <th>Yt-20</th>\n",
       "      <th>Yt-19</th>\n",
       "      <th>Yt-18</th>\n",
       "      <th>Yt-17</th>\n",
       "      <th>Yt-16</th>\n",
       "      <th>Yt-15</th>\n",
       "      <th>Yt-14</th>\n",
       "      <th>Yt-13</th>\n",
       "      <th>...</th>\n",
       "      <th>Yt-10</th>\n",
       "      <th>Yt-9</th>\n",
       "      <th>Yt-8</th>\n",
       "      <th>Yt-7</th>\n",
       "      <th>Yt-6</th>\n",
       "      <th>Yt-5</th>\n",
       "      <th>Yt-4</th>\n",
       "      <th>Yt-3</th>\n",
       "      <th>Yt-2</th>\n",
       "      <th>Yt-1</th>\n",
       "    </tr>\n",
       "    <tr>\n",
       "      <th>Month</th>\n",
       "      <th></th>\n",
       "      <th></th>\n",
       "      <th></th>\n",
       "      <th></th>\n",
       "      <th></th>\n",
       "      <th></th>\n",
       "      <th></th>\n",
       "      <th></th>\n",
       "      <th></th>\n",
       "      <th></th>\n",
       "      <th></th>\n",
       "      <th></th>\n",
       "      <th></th>\n",
       "      <th></th>\n",
       "      <th></th>\n",
       "      <th></th>\n",
       "      <th></th>\n",
       "      <th></th>\n",
       "      <th></th>\n",
       "      <th></th>\n",
       "      <th></th>\n",
       "    </tr>\n",
       "  </thead>\n",
       "  <tbody>\n",
       "    <tr>\n",
       "      <td>1950-09-01</td>\n",
       "      <td>158</td>\n",
       "      <td>-1.019441</td>\n",
       "      <td>-1.402882</td>\n",
       "      <td>-1.352868</td>\n",
       "      <td>-1.236169</td>\n",
       "      <td>-1.261176</td>\n",
       "      <td>-1.327861</td>\n",
       "      <td>-1.211162</td>\n",
       "      <td>-1.102798</td>\n",
       "      <td>-1.102798</td>\n",
       "      <td>...</td>\n",
       "      <td>-1.469568</td>\n",
       "      <td>-1.352868</td>\n",
       "      <td>-1.377875</td>\n",
       "      <td>-1.286183</td>\n",
       "      <td>-1.161148</td>\n",
       "      <td>-1.211162</td>\n",
       "      <td>-1.294518</td>\n",
       "      <td>-1.094462</td>\n",
       "      <td>-0.919413</td>\n",
       "      <td>-0.919413</td>\n",
       "    </tr>\n",
       "    <tr>\n",
       "      <td>1950-10-01</td>\n",
       "      <td>133</td>\n",
       "      <td>-1.227833</td>\n",
       "      <td>-1.352868</td>\n",
       "      <td>-1.236169</td>\n",
       "      <td>-1.261176</td>\n",
       "      <td>-1.327861</td>\n",
       "      <td>-1.211162</td>\n",
       "      <td>-1.102798</td>\n",
       "      <td>-1.102798</td>\n",
       "      <td>-1.202826</td>\n",
       "      <td>...</td>\n",
       "      <td>-1.352868</td>\n",
       "      <td>-1.377875</td>\n",
       "      <td>-1.286183</td>\n",
       "      <td>-1.161148</td>\n",
       "      <td>-1.211162</td>\n",
       "      <td>-1.294518</td>\n",
       "      <td>-1.094462</td>\n",
       "      <td>-0.919413</td>\n",
       "      <td>-0.919413</td>\n",
       "      <td>-1.019441</td>\n",
       "    </tr>\n",
       "    <tr>\n",
       "      <td>1950-11-01</td>\n",
       "      <td>114</td>\n",
       "      <td>-1.386211</td>\n",
       "      <td>-1.236169</td>\n",
       "      <td>-1.261176</td>\n",
       "      <td>-1.327861</td>\n",
       "      <td>-1.211162</td>\n",
       "      <td>-1.102798</td>\n",
       "      <td>-1.102798</td>\n",
       "      <td>-1.202826</td>\n",
       "      <td>-1.344532</td>\n",
       "      <td>...</td>\n",
       "      <td>-1.377875</td>\n",
       "      <td>-1.286183</td>\n",
       "      <td>-1.161148</td>\n",
       "      <td>-1.211162</td>\n",
       "      <td>-1.294518</td>\n",
       "      <td>-1.094462</td>\n",
       "      <td>-0.919413</td>\n",
       "      <td>-0.919413</td>\n",
       "      <td>-1.019441</td>\n",
       "      <td>-1.227833</td>\n",
       "    </tr>\n",
       "    <tr>\n",
       "      <td>1950-12-01</td>\n",
       "      <td>140</td>\n",
       "      <td>-1.169483</td>\n",
       "      <td>-1.261176</td>\n",
       "      <td>-1.327861</td>\n",
       "      <td>-1.211162</td>\n",
       "      <td>-1.102798</td>\n",
       "      <td>-1.102798</td>\n",
       "      <td>-1.202826</td>\n",
       "      <td>-1.344532</td>\n",
       "      <td>-1.469568</td>\n",
       "      <td>...</td>\n",
       "      <td>-1.286183</td>\n",
       "      <td>-1.161148</td>\n",
       "      <td>-1.211162</td>\n",
       "      <td>-1.294518</td>\n",
       "      <td>-1.094462</td>\n",
       "      <td>-0.919413</td>\n",
       "      <td>-0.919413</td>\n",
       "      <td>-1.019441</td>\n",
       "      <td>-1.227833</td>\n",
       "      <td>-1.386211</td>\n",
       "    </tr>\n",
       "    <tr>\n",
       "      <td>1951-01-01</td>\n",
       "      <td>145</td>\n",
       "      <td>-1.127805</td>\n",
       "      <td>-1.327861</td>\n",
       "      <td>-1.211162</td>\n",
       "      <td>-1.102798</td>\n",
       "      <td>-1.102798</td>\n",
       "      <td>-1.202826</td>\n",
       "      <td>-1.344532</td>\n",
       "      <td>-1.469568</td>\n",
       "      <td>-1.352868</td>\n",
       "      <td>...</td>\n",
       "      <td>-1.161148</td>\n",
       "      <td>-1.211162</td>\n",
       "      <td>-1.294518</td>\n",
       "      <td>-1.094462</td>\n",
       "      <td>-0.919413</td>\n",
       "      <td>-0.919413</td>\n",
       "      <td>-1.019441</td>\n",
       "      <td>-1.227833</td>\n",
       "      <td>-1.386211</td>\n",
       "      <td>-1.169483</td>\n",
       "    </tr>\n",
       "  </tbody>\n",
       "</table>\n",
       "<p>5 rows × 22 columns</p>\n",
       "</div>"
      ],
      "text/plain": [
       "            Thousands of Passengers   Yt_true     Yt-20     Yt-19     Yt-18  \\\n",
       "Month                                                                         \n",
       "1950-09-01                      158 -1.019441 -1.402882 -1.352868 -1.236169   \n",
       "1950-10-01                      133 -1.227833 -1.352868 -1.236169 -1.261176   \n",
       "1950-11-01                      114 -1.386211 -1.236169 -1.261176 -1.327861   \n",
       "1950-12-01                      140 -1.169483 -1.261176 -1.327861 -1.211162   \n",
       "1951-01-01                      145 -1.127805 -1.327861 -1.211162 -1.102798   \n",
       "\n",
       "               Yt-17     Yt-16     Yt-15     Yt-14     Yt-13  ...     Yt-10  \\\n",
       "Month                                                         ...             \n",
       "1950-09-01 -1.261176 -1.327861 -1.211162 -1.102798 -1.102798  ... -1.469568   \n",
       "1950-10-01 -1.327861 -1.211162 -1.102798 -1.102798 -1.202826  ... -1.352868   \n",
       "1950-11-01 -1.211162 -1.102798 -1.102798 -1.202826 -1.344532  ... -1.377875   \n",
       "1950-12-01 -1.102798 -1.102798 -1.202826 -1.344532 -1.469568  ... -1.286183   \n",
       "1951-01-01 -1.102798 -1.202826 -1.344532 -1.469568 -1.352868  ... -1.161148   \n",
       "\n",
       "                Yt-9      Yt-8      Yt-7      Yt-6      Yt-5      Yt-4  \\\n",
       "Month                                                                    \n",
       "1950-09-01 -1.352868 -1.377875 -1.286183 -1.161148 -1.211162 -1.294518   \n",
       "1950-10-01 -1.377875 -1.286183 -1.161148 -1.211162 -1.294518 -1.094462   \n",
       "1950-11-01 -1.286183 -1.161148 -1.211162 -1.294518 -1.094462 -0.919413   \n",
       "1950-12-01 -1.161148 -1.211162 -1.294518 -1.094462 -0.919413 -0.919413   \n",
       "1951-01-01 -1.211162 -1.294518 -1.094462 -0.919413 -0.919413 -1.019441   \n",
       "\n",
       "                Yt-3      Yt-2      Yt-1  \n",
       "Month                                     \n",
       "1950-09-01 -1.094462 -0.919413 -0.919413  \n",
       "1950-10-01 -0.919413 -0.919413 -1.019441  \n",
       "1950-11-01 -0.919413 -1.019441 -1.227833  \n",
       "1950-12-01 -1.019441 -1.227833 -1.386211  \n",
       "1951-01-01 -1.227833 -1.386211 -1.169483  \n",
       "\n",
       "[5 rows x 22 columns]"
      ]
     },
     "execution_count": 9,
     "metadata": {},
     "output_type": "execute_result"
    }
   ],
   "source": [
    "df.head()"
   ]
  },
  {
   "cell_type": "code",
   "execution_count": 10,
   "metadata": {},
   "outputs": [
    {
     "data": {
      "text/plain": [
       "124"
      ]
     },
     "execution_count": 10,
     "metadata": {},
     "output_type": "execute_result"
    }
   ],
   "source": [
    "len(df)"
   ]
  },
  {
   "cell_type": "code",
   "execution_count": 11,
   "metadata": {},
   "outputs": [],
   "source": [
    "arr = df.values"
   ]
  },
  {
   "cell_type": "code",
   "execution_count": 12,
   "metadata": {},
   "outputs": [],
   "source": [
    "npx = arr[:, 2:]\n",
    "npy = arr[:, 1]"
   ]
  },
  {
   "cell_type": "code",
   "execution_count": 13,
   "metadata": {},
   "outputs": [],
   "source": [
    "X = torch.from_numpy(npx).unsqueeze(2).float()\n",
    "Y = torch.from_numpy(npy).float()\n",
    "X = X.to(device)\n",
    "Y = Y.to(device)"
   ]
  },
  {
   "cell_type": "code",
   "execution_count": 14,
   "metadata": {},
   "outputs": [],
   "source": [
    "class LSTMModel(nn.Module):\n",
    "    def __init__(self, input_size=1, hidden_layer_size=100, output_size=1):\n",
    "        super().__init__()\n",
    "        self.hidden_layer_size = hidden_layer_size\n",
    "\n",
    "        self.lstm = nn.LSTM(input_size, hidden_layer_size, batch_first=True)\n",
    "\n",
    "        self.linear = nn.Linear(hidden_layer_size, output_size)\n",
    "\n",
    "        self.hidden_cell = (torch.zeros(1,1,self.hidden_layer_size),\n",
    "                            torch.zeros(1,1,self.hidden_layer_size))\n",
    "\n",
    "    def forward(self, x, trace=False):\n",
    "        if trace:\n",
    "            print(x.shape, self.hidden_cell[0].shape)\n",
    "        lstm_out, self.hidden_cell = self.lstm(x, self.hidden_cell)\n",
    "        if trace:\n",
    "            print(lstm_out.shape, self.hidden_cell[0].shape, self.hidden_cell[1].shape)\n",
    "        predictions = self.linear(lstm_out)\n",
    "        if trace:\n",
    "            print(predictions.shape)\n",
    "        predictions = predictions.squeeze()\n",
    "        return predictions[:, -1]\n",
    "    \n",
    "    def predict(self, x):\n",
    "        self.hidden_cell = (torch.zeros(1, x.shape[0], model.hidden_layer_size).to(device),\n",
    "                        torch.zeros(1, x.shape[0], model.hidden_layer_size).to(device))\n",
    "        return self.forward(x)"
   ]
  },
  {
   "cell_type": "code",
   "execution_count": 15,
   "metadata": {},
   "outputs": [],
   "source": [
    "model = LSTMModel()\n",
    "model = model.to(device)"
   ]
  },
  {
   "cell_type": "code",
   "execution_count": 16,
   "metadata": {},
   "outputs": [],
   "source": [
    "criterion = nn.MSELoss()\n",
    "optimizer = torch.optim.Adam(model.parameters(), lr = 1e-4)"
   ]
  },
  {
   "cell_type": "code",
   "execution_count": 17,
   "metadata": {},
   "outputs": [],
   "source": [
    "trainX = X[:120]\n",
    "trainY_true = Y[:120]\n",
    "testX = X[120:]\n",
    "testY_true = Y[120:]"
   ]
  },
  {
   "cell_type": "code",
   "execution_count": 18,
   "metadata": {},
   "outputs": [
    {
     "name": "stdout",
     "output_type": "stream",
     "text": [
      "0 0.8591920137405396\n",
      "100 0.6009520292282104\n",
      "200 0.18577870726585388\n",
      "300 0.1784033328294754\n",
      "400 0.17323659360408783\n",
      "500 0.1687954217195511\n",
      "600 0.16365133225917816\n",
      "700 0.15126736462116241\n",
      "800 0.08561871945858002\n",
      "900 0.05765807628631592\n"
     ]
    }
   ],
   "source": [
    "BS = 32\n",
    "for i in range(1000):\n",
    "    optimizer.zero_grad()\n",
    "    y_pred = model.predict(trainX)\n",
    "    \n",
    "    loss = criterion(y_pred, trainY_true)\n",
    "    loss.backward()\n",
    "    optimizer.step()\n",
    "    if i % 100 == 0:\n",
    "        print(i, loss.item())"
   ]
  },
  {
   "cell_type": "code",
   "execution_count": 19,
   "metadata": {},
   "outputs": [],
   "source": [
    "trainY_pred = model.predict(trainX)"
   ]
  },
  {
   "cell_type": "code",
   "execution_count": 20,
   "metadata": {},
   "outputs": [],
   "source": [
    "rescaled_trainY_true = (trainY_true * series_std) + series_mean\n",
    "rescaled_trainY_pred = (trainY_pred * series_std) + series_mean"
   ]
  },
  {
   "cell_type": "code",
   "execution_count": 21,
   "metadata": {},
   "outputs": [],
   "source": [
    "testY_pred = model.predict(testX)"
   ]
  },
  {
   "cell_type": "code",
   "execution_count": 22,
   "metadata": {},
   "outputs": [],
   "source": [
    "Y_pred = torch.cat([trainY_pred, testY_pred], dim=0)"
   ]
  },
  {
   "cell_type": "code",
   "execution_count": 23,
   "metadata": {},
   "outputs": [
    {
     "data": {
      "text/plain": [
       "124"
      ]
     },
     "execution_count": 23,
     "metadata": {},
     "output_type": "execute_result"
    }
   ],
   "source": [
    "len(Y_pred)"
   ]
  },
  {
   "cell_type": "code",
   "execution_count": 24,
   "metadata": {},
   "outputs": [],
   "source": [
    "df['Yt_pred'] = Y_pred.cpu().detach().numpy()"
   ]
  },
  {
   "cell_type": "code",
   "execution_count": 25,
   "metadata": {},
   "outputs": [
    {
     "data": {
      "text/plain": [
       "<matplotlib.axes._subplots.AxesSubplot at 0x7fb2c8974590>"
      ]
     },
     "execution_count": 25,
     "metadata": {},
     "output_type": "execute_result"
    },
    {
     "data": {
      "image/png": "[encoded data removed]",
      "text/plain": [
       "<Figure size 432x288 with 1 Axes>"
      ]
     },
     "metadata": {
      "needs_background": "light"
     },
     "output_type": "display_data"
    }
   ],
   "source": [
    "df['Yt_true'][:120].plot(legend=True, label='train_true')\n",
    "df['Yt_pred'][:120].plot(legend=True, label='train_pred')\n",
    "df['Yt_true'][119:].plot(legend=True, label='test_true')\n",
    "df['Yt_pred'][119:].plot(legend=True, label='test_pred')"
   ]
  },
  {
   "cell_type": "code",
   "execution_count": 26,
   "metadata": {},
   "outputs": [
    {
     "name": "stdout",
     "output_type": "stream",
     "text": [
      "MSE : 0.058859\n",
      "RMSE: 0.242610\n",
      "NRMSE using mean: 1.221337\n",
      "NRMSE using stdev: 0.260745\n",
      "NRMSE using range: 0.057293\n",
      "MAE: 0.189868\n"
     ]
    }
   ],
   "source": [
    "from sklearn.metrics import mean_squared_error, mean_absolute_error\n",
    "\n",
    "mse = mean_squared_error(df['Yt_true'], df['Yt_pred'])\n",
    "print('MSE : %f' % mse)\n",
    "rmse = np.sqrt(mse)\n",
    "print('RMSE: %f' % rmse)\n",
    "nrmse_mean = rmse/np.mean(df['Yt_true'])\n",
    "print('NRMSE using mean: %f' % nrmse_mean)\n",
    "nrmse_std = rmse/np.std(df['Yt_true'])\n",
    "print('NRMSE using stdev: %f' % nrmse_std)\n",
    "nrmse_range = rmse/(np.max(df['Yt_true'])- np.min(df['Yt_true']))\n",
    "print('NRMSE using range: %f' % nrmse_range)\n",
    "mae = mean_absolute_error(df['Yt_true'], df['Yt_pred'])\n",
    "print('MAE: %f' % mae)"
   ]
  },
  {
   "cell_type": "code",
   "execution_count": 27,
   "metadata": {},
   "outputs": [
    {
     "name": "stdout",
     "output_type": "stream",
     "text": [
      "Train\n",
      "MSE : 0.049082\n",
      "RMSE: 0.221544\n",
      "NRMSE using mean: 1.395670\n",
      "NRMSE using stdev: 0.241588\n",
      "NRMSE using range: 0.052319\n",
      "\n",
      "\n",
      "Test\n",
      "MSE : 0.352187\n",
      "RMSE: 0.593454\n",
      "NRMSE using mean: 0.425165\n",
      "NRMSE using stdev: 1.656497\n",
      "NRMSE using range: 0.603343\n"
     ]
    }
   ],
   "source": [
    "print('Train')\n",
    "mse = mean_squared_error(df['Yt_true'][:120], df['Yt_pred'][:120])\n",
    "print('MSE : %f' % mse)\n",
    "rmse = np.sqrt(mse)\n",
    "print('RMSE: %f' % rmse)\n",
    "nrmse_mean = rmse/np.mean(df['Yt_true'][:120])\n",
    "print('NRMSE using mean: %f' % nrmse_mean)\n",
    "nrmse_std = rmse/np.std(df['Yt_true'][:120])\n",
    "print('NRMSE using stdev: %f' % nrmse_std)\n",
    "nrmse_range = rmse/(np.max(df['Yt_true'][:120])- np.min(df['Yt_true'][:120]))\n",
    "print('NRMSE using range: %f' % nrmse_range)\n",
    "\n",
    "print('\\n\\nTest')\n",
    "mse = mean_squared_error(df['Yt_true'][120:], df['Yt_pred'][120:])\n",
    "print('MSE : %f' % mse)\n",
    "rmse = np.sqrt(mse)\n",
    "print('RMSE: %f' % rmse)\n",
    "nrmse_mean = rmse/np.mean(df['Yt_true'][120:])\n",
    "print('NRMSE using mean: %f' % nrmse_mean)\n",
    "nrmse_std = rmse/np.std(df['Yt_true'][120:])\n",
    "print('NRMSE using stdev: %f' % nrmse_std)\n",
    "nrmse_range = rmse/(np.max(df['Yt_true'][120:])- np.min(df['Yt_true'][120:]))\n",
    "print('NRMSE using range: %f' % nrmse_range)"
   ]
  },
  {
   "cell_type": "code",
   "execution_count": null,
   "metadata": {},
   "outputs": [],
   "source": []
  },
  {
   "cell_type": "code",
   "execution_count": null,
   "metadata": {},
   "outputs": [],
   "source": []
  }
 ],
 "metadata": {
  "kernelspec": {
   "display_name": "Python 3",
   "language": "python",
   "name": "python3"
  },
  "language_info": {
   "codemirror_mode": {
    "name": "ipython",
    "version": 3
   },
   "file_extension": ".py",
   "mimetype": "text/x-python",
   "name": "python",
   "nbconvert_exporter": "python",
   "pygments_lexer": "ipython3",
   "version": "3.7.4"
  }
 },
 "nbformat": 4,
 "nbformat_minor": 4
}
